{
 "cells": [
  {
   "cell_type": "markdown",
   "metadata": {},
   "source": [
    "## Python Day 2\n",
    "[source](https://www.youtube.com/playlist?list=PL_c9BZzLwBRLrHc6MntpdrNPKoC2tJr0z)\n",
    "`python`\n",
    "<br>"
   ]
  },
  {
   "cell_type": "markdown",
   "metadata": {},
   "source": [
    "#### Intro to List\n",
    ">List in python is dynamic (not statically sized)"
   ]
  },
  {
   "cell_type": "code",
   "execution_count": 9,
   "metadata": {},
   "outputs": [
    {
     "name": "stdout",
     "output_type": "stream",
     "text": [
      "still eat it even unhealthy\n",
      "content:  ['pizza', 'Frozen Custard', 'apple crisp']\n",
      "length:  3\n",
      "check if item \"chicken\" is in list:  False\n"
     ]
    }
   ],
   "source": [
    "unHealthy = ['pizza', 'Frozen Custard']\n",
    "\n",
    "unHealthy.append(\"apple crisp\") #method\n",
    "#method is different to standalone function. standalone function is not attached to any object\n",
    "\n",
    "if \"pizza\" in unHealthy:\n",
    "    print('still eat it even unhealthy')\n",
    "    \n",
    "\n",
    "print('content: ',unHealthy)\n",
    "print('length: ', len(unHealthy))\n",
    "print('check if item \"chicken\" is in list: ', \"chicken\" in unHealthy )"
   ]
  },
  {
   "cell_type": "code",
   "execution_count": 13,
   "metadata": {},
   "outputs": [
    {
     "name": "stdout",
     "output_type": "stream",
     "text": [
      "['apple', 'banana', 'soda']\n"
     ]
    }
   ],
   "source": [
    "healthy = [\"apple\", \"banana\"]\n",
    "myBackPack = [\"apple\", \"banana\", \"pizza\", \"soda\"]\n",
    "\n",
    "if \"pizza\" not in healthy:\n",
    "    myBackPack.remove(\"pizza\")\n",
    "    print(myBackPack)\n"
   ]
  },
  {
   "cell_type": "code",
   "execution_count": 16,
   "metadata": {},
   "outputs": [
    {
     "name": "stdout",
     "output_type": "stream",
     "text": [
      "1851585233856\n",
      "1851585233856\n",
      "['apple', 'banana']\n"
     ]
    }
   ],
   "source": [
    "healthy = [\"apple\", \"banana\"]\n",
    "myBackPack = [\"apple\", \"banana\", \"pizza\", \"soda\"]\n",
    "\n",
    "print(id(myBackPack))\n",
    "#reassignment\n",
    "myBackPack[:] = [item for item in myBackPack if item in healthy]\n",
    "\n",
    "print(id(myBackPack))\n",
    "print(myBackPack)"
   ]
  },
  {
   "cell_type": "code",
   "execution_count": 25,
   "metadata": {},
   "outputs": [
    {
     "name": "stdout",
     "output_type": "stream",
     "text": [
      "['apple', 'banana']\n"
     ]
    }
   ],
   "source": [
    "healthy = [\"apple\", \"banana\"]\n",
    "backpack = [\"apple\", \"banana\", \"pizza\", \"soda\"]\n",
    "healthy_backpack = []\n",
    "\n",
    "#removing unhealthy foods using loop\n",
    "for item in backpack:\n",
    "    if item in healthy:\n",
    "        healthy_backpack.append(item)\n",
    "print(healthy_backpack)"
   ]
  },
  {
   "cell_type": "code",
   "execution_count": 35,
   "metadata": {},
   "outputs": [
    {
     "name": "stdout",
     "output_type": "stream",
     "text": [
      "['computer', 'cellphone']\n"
     ]
    }
   ],
   "source": [
    "boughtProducts = [\"chocolate\", \"rice cooker\", \"electric fan\", \"computer\"]\n",
    "receipt = [\"chocolate\", \"rice cooker\", \"electric fan\", \"cellphone\"]\n",
    "\n",
    "anomaly = []\n",
    "\n",
    "for item in boughtProducts:\n",
    "    if item not in receipt:\n",
    "        anomaly.append(item)\n",
    "for item in receipt:\n",
    "    if item not in boughtProducts:\n",
    "        anomaly.append(item)\n",
    "print(anomaly)"
   ]
  },
  {
   "cell_type": "code",
   "execution_count": 21,
   "metadata": {},
   "outputs": [
    {
     "name": "stdout",
     "output_type": "stream",
     "text": [
      "[0, 1, 1, 2, 3, 5, 8, 13, 21, 34, 55, 89, 144, 233, 377, 610, 987, 1597, 2584, 4181]\n"
     ]
    }
   ],
   "source": [
    "# not so related practice, fibonacci sequence\n",
    "def fibonacci_sequence(n):\n",
    "    fibo = [0,1]\n",
    "    \n",
    "    while len(fibo) <= n:\n",
    "        fibo.append(fibo[-1]+fibo[-2])\n",
    "    \n",
    "    return fibo[:n]\n",
    "n = 20\n",
    "result = fibonacci_sequence(n)\n",
    "print(result)"
   ]
  },
  {
   "cell_type": "markdown",
   "metadata": {},
   "source": [
    "#### List Comprehension\n",
    "\"{expression} {list want to get: iterable} {condition}\"\n"
   ]
  }
 ],
 "metadata": {
  "kernelspec": {
   "display_name": "Python 3",
   "language": "python",
   "name": "python3"
  },
  "language_info": {
   "codemirror_mode": {
    "name": "ipython",
    "version": 3
   },
   "file_extension": ".py",
   "mimetype": "text/x-python",
   "name": "python",
   "nbconvert_exporter": "python",
   "pygments_lexer": "ipython3",
   "version": "3.12.2"
  }
 },
 "nbformat": 4,
 "nbformat_minor": 2
}
