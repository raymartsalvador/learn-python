{
 "cells": [
  {
   "cell_type": "markdown",
   "metadata": {},
   "source": [
    "# Pine Tree\n",
    "\n",
    "## Problem Statement\n",
    "\n",
    "> Print a pine tree with a given height. The tree should be made of asterisks (`*`) and spaces (` `). The height of the tree is equal to the number of rows. The tree should be constructed using the following rules:"
   ]
  },
  {
   "cell_type": "code",
   "execution_count": 15,
   "metadata": {},
   "outputs": [
    {
     "name": "stdout",
     "output_type": "stream",
     "text": [
      "       *\n",
      "      ***\n",
      "     *****\n",
      "    *******\n",
      "   *********\n",
      "  ***********\n",
      " *************\n"
     ]
    }
   ],
   "source": [
    "#\"   *   \" h*2-1  asterisks = 1  3\n",
    "#\"  ***  \" h*2-1  asterisks = 3  2\n",
    "#\" ***** \" h*2-1  asterisks = 5  1\n",
    "#\"*******\" h*2-1  asterisks = 7  0\n",
    "# height  = 4 \n",
    "\n",
    "\n",
    "height = 7\n",
    "n = 1\n",
    "for i in range(height):\n",
    "    #print spaces\n",
    "    for space in range(height):\n",
    "        print(\" \", end='')\n",
    "        \n",
    "    #print asterisk\n",
    "    for asterisk in range(n*2-1):\n",
    "        print(\"*\", end='')\n",
    "\n",
    "    height-=1\n",
    "    n+=1\n",
    "    print(\"\")"
   ]
  }
 ],
 "metadata": {
  "kernelspec": {
   "display_name": "Python 3",
   "language": "python",
   "name": "python3"
  },
  "language_info": {
   "codemirror_mode": {
    "name": "ipython",
    "version": 3
   },
   "file_extension": ".py",
   "mimetype": "text/x-python",
   "name": "python",
   "nbconvert_exporter": "python",
   "pygments_lexer": "ipython3",
   "version": "3.12.2"
  }
 },
 "nbformat": 4,
 "nbformat_minor": 2
}
