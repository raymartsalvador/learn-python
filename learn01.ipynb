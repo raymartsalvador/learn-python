{
 "cells": [
  {
   "cell_type": "markdown",
   "metadata": {},
   "source": [
    "# Python Notes\n",
    "\n",
    "[Source Link](https://www.youtube.com/playlist?list=PL_c9BZzLwBRKK8ndQBBKolg7IxrC5T6Ws)\n",
    "<br>\n",
    "`caleb curry` `python`\n",
    "\n",
    "#### Expression\n",
    "\n",
    ">A piece of syntax which can be evaluated to some value (e.g. literals, names, attribute access, operators or function calls which all **return a value**).\n",
    "\n",
    "#### Logical Error\n",
    "\n",
    ">A code that works but **wrong outcome**\n",
    "\n",
    "#### Precedence and Parentheses Rules\n",
    "\n",
    ">It follows the rule of **PEMDAS** (Parentheses, Exponent, Multiplication, Division, Addition). Anything that have **parentheses happens first.**\n",
    "\n",
    "#### Syntax\n",
    "\n",
    ">Typing rules for the language\n",
    "\n",
    "#### Function\n",
    "\n",
    ">Takes an input and brings back an output\n",
    "\n",
    "Passing Data/Argument\n",
    "\n",
    "\n",
    "\n"
   ]
  },
  {
   "cell_type": "code",
   "execution_count": 43,
   "metadata": {},
   "outputs": [
    {
     "data": {
      "text/plain": [
       "0.5"
      ]
     },
     "execution_count": 43,
     "metadata": {},
     "output_type": "execute_result"
    }
   ],
   "source": [
    "#example: \n",
    "round(0.5, 1)\n",
    "#round(<argument/data> program expects)"
   ]
  },
  {
   "cell_type": "markdown",
   "metadata": {},
   "source": [
    "#### Variables and Variable Naming Rules\n",
    "Purpose\n",
    "* Prevents repeating values\n",
    "* don't know the value yet\n",
    "* for readability\n",
    "\n",
    "Conventions\n",
    "* Use underscore in multiple worded variables\n",
    "* Don't use hyphen\n",
    "* Don't use number as starting character\n",
    "* Avoid keywords (e.g. return)"
   ]
  },
  {
   "cell_type": "code",
   "execution_count": 44,
   "metadata": {},
   "outputs": [],
   "source": [
    "age_of_user = 18"
   ]
  },
  {
   "cell_type": "markdown",
   "metadata": {},
   "source": [
    "#### Comments"
   ]
  },
  {
   "cell_type": "code",
   "execution_count": 45,
   "metadata": {},
   "outputs": [],
   "source": [
    "#this is a single line comment"
   ]
  },
  {
   "cell_type": "markdown",
   "metadata": {},
   "source": [
    "#### Floor & Ceil Division "
   ]
  },
  {
   "cell_type": "code",
   "execution_count": 46,
   "metadata": {},
   "outputs": [
    {
     "data": {
      "text/plain": [
       "55"
      ]
     },
     "execution_count": 46,
     "metadata": {},
     "output_type": "execute_result"
    }
   ],
   "source": [
    "import math\n",
    "math.ceil(55.6)\n",
    "math.floor(55.5)"
   ]
  },
  {
   "cell_type": "code",
   "execution_count": 47,
   "metadata": {},
   "outputs": [
    {
     "name": "stdout",
     "output_type": "stream",
     "text": [
      "Quotient:  2.5\n",
      "Floor division quotient:  2\n"
     ]
    }
   ],
   "source": [
    "import math \n",
    "a = 5\n",
    "b = 2\n",
    "quotient = a/b\n",
    "round_down_quotient = math.floor(quotient)\n",
    "print(\"Quotient: \", quotient)\n",
    "print(\"Floor division quotient: \", round_down_quotient)\n"
   ]
  },
  {
   "cell_type": "markdown",
   "metadata": {},
   "source": [
    "> Another Method\n",
    ">>float division \"/\"\n",
    "<br>\n",
    ">>integer division \"//\""
   ]
  },
  {
   "cell_type": "code",
   "execution_count": 48,
   "metadata": {},
   "outputs": [
    {
     "name": "stdout",
     "output_type": "stream",
     "text": [
      "3\n"
     ]
    }
   ],
   "source": [
    "quotient = 10//3\n",
    "print(quotient)"
   ]
  },
  {
   "cell_type": "markdown",
   "metadata": {},
   "source": [
    "#### Modulus\n",
    ">Gets the remainder"
   ]
  },
  {
   "cell_type": "code",
   "execution_count": 49,
   "metadata": {},
   "outputs": [
    {
     "name": "stdout",
     "output_type": "stream",
     "text": [
      "5\n"
     ]
    }
   ],
   "source": [
    "number = 345345\n",
    "limit = 10\n",
    "print(number%limit)"
   ]
  },
  {
   "cell_type": "markdown",
   "metadata": {},
   "source": [
    "#### Raising Numbers to a Power"
   ]
  },
  {
   "cell_type": "code",
   "execution_count": 53,
   "metadata": {},
   "outputs": [
    {
     "name": "stdout",
     "output_type": "stream",
     "text": [
      "6561\n"
     ]
    }
   ],
   "source": [
    "print(9**4)"
   ]
  }
 ],
 "metadata": {
  "kernelspec": {
   "display_name": "Python 3",
   "language": "python",
   "name": "python3"
  },
  "language_info": {
   "codemirror_mode": {
    "name": "ipython",
    "version": 3
   },
   "file_extension": ".py",
   "mimetype": "text/x-python",
   "name": "python",
   "nbconvert_exporter": "python",
   "pygments_lexer": "ipython3",
   "version": "3.12.2"
  }
 },
 "nbformat": 4,
 "nbformat_minor": 2
}
