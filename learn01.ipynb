{
 "cells": [
  {
   "cell_type": "markdown",
   "metadata": {},
   "source": [
    "#Python Notes\n",
    "[Source Link](https://www.youtube.com/playlist?list=PL_c9BZzLwBRKK8ndQBBKolg7IxrC5T6Ws)\n",
    "`caleb curry` `python`\n",
    "\n",
    "#### Expression\n",
    "\n",
    ">A piece of syntax which can be evaluated to some value (e.g. literals, names, attribute access, operators or function calls which all **return a value**).\n",
    "\n",
    "#### Logical Error\n",
    "\n",
    ">A code that works but wrong Outcome\n",
    "\n",
    "#### Precedence and Parentheses Rules\n",
    "\n",
    ">It follows the rule of PEMDAS (Parentheses, Exponent, Multiplication, Division, Addition). Anything that have parentheses happens first.\n",
    "\n",
    "#### Syntax\n",
    "\n",
    ">Typing rules for the language\n",
    "\n",
    "#### Function\n",
    "\n",
    ">Takes an input and brings back an output\n",
    "\n",
    "#### Passing Data/Argument\n",
    "\n",
    "\n",
    "\n"
   ]
  },
  {
   "cell_type": "code",
   "execution_count": 4,
   "metadata": {},
   "outputs": [
    {
     "data": {
      "text/plain": [
       "0.5"
      ]
     },
     "execution_count": 4,
     "metadata": {},
     "output_type": "execute_result"
    }
   ],
   "source": [
    "#example: \n",
    "round(0.5, 1)\n",
    "#round(<argument/data> program expects)"
   ]
  },
  {
   "cell_type": "code",
   "execution_count": null,
   "metadata": {},
   "outputs": [],
   "source": []
  }
 ],
 "metadata": {
  "kernelspec": {
   "display_name": "Python 3",
   "language": "python",
   "name": "python3"
  },
  "language_info": {
   "codemirror_mode": {
    "name": "ipython",
    "version": 3
   },
   "file_extension": ".py",
   "mimetype": "text/x-python",
   "name": "python",
   "nbconvert_exporter": "python",
   "pygments_lexer": "ipython3",
   "version": "3.12.2"
  }
 },
 "nbformat": 4,
 "nbformat_minor": 2
}
